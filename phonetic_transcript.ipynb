{
 "cells": [
  {
   "cell_type": "code",
   "execution_count": 3,
   "metadata": {},
   "outputs": [
    {
     "name": "stdout",
     "output_type": "stream",
     "text": [
      "Note: you may need to restart the kernel to use updated packages.\n",
      "Defaulting to user installation because normal site-packages is not writeable\n",
      "Requirement already satisfied: eng_to_ipa in c:\\users\\student\\appdata\\local\\packages\\pythonsoftwarefoundation.python.3.12_qbz5n2kfra8p0\\localcache\\local-packages\\python312\\site-packages (0.0.2)\n"
     ]
    },
    {
     "name": "stderr",
     "output_type": "stream",
     "text": [
      "\n",
      "[notice] A new release of pip is available: 24.3.1 -> 25.0\n",
      "[notice] To update, run: C:\\Users\\Student\\AppData\\Local\\Microsoft\\WindowsApps\\PythonSoftwareFoundation.Python.3.12_qbz5n2kfra8p0\\python.exe -m pip install --upgrade pip\n"
     ]
    }
   ],
   "source": [
    "pip install eng_to_ipa"
   ]
  },
  {
   "cell_type": "code",
   "execution_count": 12,
   "metadata": {},
   "outputs": [],
   "source": [
    "import eng_to_ipa as ipa\n",
    "import glob\n",
    "import os\n",
    "import re"
   ]
  },
  {
   "cell_type": "code",
   "execution_count": 13,
   "metadata": {},
   "outputs": [],
   "source": [
    "\n",
    "def read_file(file_path):\n",
    "    with open(file_path, 'r') as file:\n",
    "        return file.read()\n",
    "\n",
    "def write_file(file_path, content):\n",
    "    os.makedirs(os.path.dirname(file_path), exist_ok=True)\n",
    "    with open(file_path, 'w', encoding = 'utf-8') as file:\n",
    "        file.write(content)\n",
    "\n",
    "def convert_to_phonetic(text):\n",
    "    return ipa.convert(text)\n",
    "\n",
    "def process_files_in_subfolders(root_folder, output_base_path):\n",
    "    pattern = os.path.join(root_folder, '**', 'Process-rec-*.txt')\n",
    "    regex = re.compile(r'Process-rec-\\d{3}\\.txt')\n",
    "\n",
    "    for file_path in glob.glob(pattern, recursive=True):\n",
    "        if regex.search(os.path.basename(file_path)):\n",
    "            text = read_file(file_path)\n",
    "            phonetic_text = convert_to_phonetic(text)\n",
    "            relative_path = os.path.relpath(file_path, root_folder)\n",
    "            output_file = os.path.join(output_base_path, relative_path)\n",
    "            output_file = output_file.replace('.txt', '_phonetic.txt')\n",
    "            \n",
    "            write_file(output_file, phonetic_text)"
   ]
  },
  {
   "cell_type": "code",
   "execution_count": 15,
   "metadata": {},
   "outputs": [],
   "source": [
    "if __name__ == \"__main__\":\n",
    "    base_path = \"C:/Users/Student/Documents/PhD Work/SLT_challenge\"\n",
    "    input_base_path = base_path + \"/\" + \"transcripts_outputFiles\"\n",
    "    output_base_path = base_path + \"/\" + \"phonetic_outputFiles\"\n",
    "\n",
    "    process_files_in_subfolders(input_base_path, output_base_path)"
   ]
  }
 ],
 "metadata": {
  "kernelspec": {
   "display_name": "Python 3",
   "language": "python",
   "name": "python3"
  },
  "language_info": {
   "codemirror_mode": {
    "name": "ipython",
    "version": 3
   },
   "file_extension": ".py",
   "mimetype": "text/x-python",
   "name": "python",
   "nbconvert_exporter": "python",
   "pygments_lexer": "ipython3",
   "version": "3.12.8"
  }
 },
 "nbformat": 4,
 "nbformat_minor": 2
}
