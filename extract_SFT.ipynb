{
 "cells": [
  {
   "cell_type": "code",
   "execution_count": 1,
   "metadata": {},
   "outputs": [],
   "source": [
    "import os \n",
    "import re"
   ]
  },
  {
   "cell_type": "code",
   "execution_count": 31,
   "metadata": {},
   "outputs": [],
   "source": [
    "def clean_transcript(text):\n",
    "  \"\"\"Removes filler words, text within parentheses, text within angle brackets, and punctuation.\"\"\"\n",
    "  \n",
    "  text = text.lower()\n",
    "  \n",
    "  filler_words = ['um', 'uh', 'like', 'you know', 'basically', 'so', 'like', 'actually', 'pat', 'oh', 'er', 'em', 'erm', 'a', 'an', 'the', 'these']\n",
    "  pattern_fillers = r'\\b(' + '|'.join(filler_words) + r')\\b'\n",
    "  pattern_parentheses = r'\\([^)]*\\)'\n",
    "  pattern_angle_brackets = r'<[^>]*>'\n",
    "  pattern_punctuation = r'[^\\w\\s]'\n",
    "\n",
    "  text = re.sub(pattern_fillers, '', text)\n",
    "  text = re.sub(pattern_parentheses, '', text)\n",
    "  text = re.sub(pattern_angle_brackets, '', text)\n",
    "  text = re.sub(pattern_punctuation, '', text) \n",
    "\n",
    "  return text"
   ]
  },
  {
   "cell_type": "code",
   "execution_count": 29,
   "metadata": {},
   "outputs": [],
   "source": [
    "def process_folder(input_dir, output_dir):\n",
    "  \"\"\"Processes the given input directory and saves cleaned transcripts to the output directory.\"\"\"\n",
    "  if not os.path.exists(output_dir):\n",
    "    os.makedirs(output_dir)\n",
    "\n",
    "  for participant_dir in os.listdir(input_dir):\n",
    "    participant_path = os.path.join(input_dir, participant_dir)\n",
    "    if os.path.isdir(participant_path):\n",
    "      for filename in os.listdir(participant_path):\n",
    "        if filename.endswith(\"_SFT.txt\"):\n",
    "          filepath = os.path.join(participant_path, filename)\n",
    "          with open(filepath, 'r') as f:\n",
    "            text = f.read()\n",
    "          cleaned_text = clean_transcript(text)\n",
    "\n",
    "          output_filepath = os.path.join(output_dir, f\"{participant_dir}.txt\")\n",
    "          with open(output_filepath, 'w') as f:\n",
    "            f.write(cleaned_text)"
   ]
  },
  {
   "cell_type": "code",
   "execution_count": 32,
   "metadata": {},
   "outputs": [],
   "source": [
    "# Example usage:\n",
    "input_dir = \"/home/fritzpeters/Documents/speech_graph/PROCESS-V1\" \n",
    "output_dir = \"/home/fritzpeters/Documents/speech_graph/SFT_transcripts\"\n",
    "\n",
    "process_folder(input_dir, output_dir)"
   ]
  }
 ],
 "metadata": {
  "kernelspec": {
   "display_name": "base",
   "language": "python",
   "name": "python3"
  },
  "language_info": {
   "codemirror_mode": {
    "name": "ipython",
    "version": 3
   },
   "file_extension": ".py",
   "mimetype": "text/x-python",
   "name": "python",
   "nbconvert_exporter": "python",
   "pygments_lexer": "ipython3",
   "version": "3.11.9"
  }
 },
 "nbformat": 4,
 "nbformat_minor": 2
}
