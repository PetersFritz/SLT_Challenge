{
 "cells": [
  {
   "cell_type": "code",
   "execution_count": 1,
   "metadata": {},
   "outputs": [],
   "source": [
    "import os \n",
    "import re"
   ]
  },
  {
   "cell_type": "code",
   "execution_count": null,
   "metadata": {},
   "outputs": [],
   "source": [
    "def extract_transcript(text):\n",
    "    \"\"\"Removes lines starting with 'Oth:', filler words, text within parentheses, text within angle brackets, and punctuation.\"\"\"\n",
    "    \n",
    "    pattern_oth_lines = r'^Oth:.*?$'  # Matches lines starting with 'Oth:'\n",
    "    text = re.sub(pattern_oth_lines, '', text, flags=re.MULTILINE)\n",
    "\n",
    "    text = text.lower()\n",
    "    text = text.replace('\\n', ' ')  # Remove newlines\n",
    "\n",
    "    filler_words = ['pat']\n",
    "    pattern_fillers = r'\\b(' + '|'.join(filler_words) + r')\\b'\n",
    "    pattern_parentheses = r'\\([^)]*\\)'\n",
    "    pattern_angle_brackets = r'<[^>]*>'\n",
    "    pattern_punctuation = r'[^\\w\\s]'\n",
    "\n",
    "    text = re.sub(pattern_fillers, '', text)\n",
    "    text = re.sub(pattern_parentheses, '', text)\n",
    "    text = re.sub(pattern_angle_brackets, '', text)\n",
    "    text = re.sub(pattern_punctuation, '', text) \n",
    "\n",
    "    return text"
   ]
  },
  {
   "cell_type": "code",
   "execution_count": null,
   "metadata": {},
   "outputs": [],
   "source": [
    "def process_folder(input_dir, output_dir, file_ending):\n",
    "  \"\"\"Processes the given input directory and saves cleaned transcripts to the output directory.\"\"\"\n",
    "  if not os.path.exists(output_dir):\n",
    "    os.makedirs(output_dir)\n",
    "\n",
    "  for participant_dir in os.listdir(input_dir):\n",
    "    participant_path = os.path.join(input_dir, participant_dir)\n",
    "    if os.path.isdir(participant_path):\n",
    "      for filename in os.listdir(participant_path):\n",
    "        if filename.endswith(file_ending):\n",
    "          filepath = os.path.join(participant_path, filename)\n",
    "          with open(filepath, 'r') as f:\n",
    "            text = f.read()\n",
    "          cleaned_text = extract_transcript(text)\n",
    "\n",
    "          output_filepath = os.path.join(output_dir, f\"{participant_dir}.txt\")\n",
    "          with open(output_filepath, 'w') as f:\n",
    "            f.write(cleaned_text)"
   ]
  },
  {
   "cell_type": "code",
   "execution_count": null,
   "metadata": {},
   "outputs": [],
   "source": [
    "input_dir = \"/home/fritzpeters/Documents/speech_graph/PROCESS-V1\" \n",
    "output_dir_SFT = \"/home/fritzpeters/Documents/speech_graph/transcripts_outputFiles/SFT_outputFiles\"\n",
    "output_dir_PFT = \"/home/fritzpeters/Documents/speech_graph/transcripts_outputFiles/PFT_outputFiles\"\n",
    "output_dir_CTD = \"/home/fritzpeters/Documents/speech_graph/transcripts_outputFiles/CTD_outputFiles\"\n",
    "\n",
    "process_folder(input_dir, output_dir_SFT, 'SFT.txt')\n",
    "process_folder(input_dir, output_dir_PFT, 'PFT.txt')\n",
    "process_folder(input_dir, output_dir_CTD, 'CTD.txt')"
   ]
  },
  {
   "cell_type": "code",
   "execution_count": null,
   "metadata": {},
   "outputs": [],
   "source": [
    "# Function to extract and clean (i.e., remove filler words, etc.) the target transcript \n",
    "# we have not used this yet as we did not want to exclude filler words/disfluencies\n",
    "\n",
    "def clean_transcript(text):\n",
    "  \"\"\"Removes filler words, text within parentheses, text within angle brackets, and punctuation.\"\"\"\n",
    "\n",
    "  pattern_oth_lines = r'^Oth:.*?$'  # Matches lines starting with 'Oth:'\n",
    "  text = re.sub(pattern_oth_lines, '', text, flags=re.MULTILINE)\n",
    "  \n",
    "  text = text.lower()\n",
    "  text = text.replace('\\n', ' ')  # Remove newlines\n",
    "  \n",
    "  filler_words = ['um', 'uh', 'like', 'you know', 'basically', 'so', 'like', 'actually', 'pat', 'oh', 'er', 'em', 'erm', 'a', 'an', 'the', 'these']\n",
    "  pattern_fillers = r'\\b(' + '|'.join(filler_words) + r')\\b'\n",
    "  pattern_parentheses = r'\\([^)]*\\)'\n",
    "  pattern_angle_brackets = r'<[^>]*>'\n",
    "  pattern_punctuation = r'[^\\w\\s]'\n",
    "\n",
    "  text = re.sub(pattern_fillers, '', text)\n",
    "  text = re.sub(pattern_parentheses, '', text)\n",
    "  text = re.sub(pattern_angle_brackets, '', text)\n",
    "  text = re.sub(pattern_punctuation, '', text) \n",
    "\n",
    "  return text"
   ]
  }
 ],
 "metadata": {
  "kernelspec": {
   "display_name": "base",
   "language": "python",
   "name": "python3"
  },
  "language_info": {
   "codemirror_mode": {
    "name": "ipython",
    "version": 3
   },
   "file_extension": ".py",
   "mimetype": "text/x-python",
   "name": "python",
   "nbconvert_exporter": "python",
   "pygments_lexer": "ipython3",
   "version": "3.11.9"
  }
 },
 "nbformat": 4,
 "nbformat_minor": 2
}
